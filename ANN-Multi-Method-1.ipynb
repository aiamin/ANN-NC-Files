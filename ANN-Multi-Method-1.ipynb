{
 "cells": [
  {
   "cell_type": "markdown",
   "id": "8d964a5f",
   "metadata": {},
   "source": [
    "#### Libraries"
   ]
  },
  {
   "cell_type": "code",
   "execution_count": null,
   "id": "020e119d",
   "metadata": {},
   "outputs": [],
   "source": [
    "import numpy as np\n",
    "import pandas as pd\n",
    "\n",
    "from sklearn.preprocessing import MinMaxScaler\n",
    "from sklearn.model_selection import train_test_split\n",
    "from sklearn.metrics import mean_squared_error,median_absolute_error,r2_score\n",
    "from sklearn.utils import shuffle\n",
    "\n",
    "import tensorflow as tf\n",
    "import keras\n",
    "import tensorflow.keras.metrics\n",
    "from tensorflow.keras.models import Sequential\n",
    "from tensorflow.keras.layers import Activation , Dense\n",
    "from tensorflow.keras.optimizers import Adam\n",
    "from tensorflow.keras.metrics import MSE"
   ]
  },
  {
   "cell_type": "code",
   "execution_count": null,
   "id": "18379c30",
   "metadata": {},
   "outputs": [],
   "source": [
    "file_path_all = 'F:/dataset_all.xlsx'"
   ]
  },
  {
   "cell_type": "code",
   "execution_count": null,
   "id": "ed24d5b1",
   "metadata": {
    "scrolled": true
   },
   "outputs": [],
   "source": [
    "df_all = pd.read_excel(file_path_all)\n",
    "df_all"
   ]
  },
  {
   "cell_type": "code",
   "execution_count": null,
   "id": "bac2f43d",
   "metadata": {},
   "outputs": [],
   "source": [
    "print(df_all.columns)"
   ]
  },
  {
   "cell_type": "code",
   "execution_count": null,
   "id": "47f1db84",
   "metadata": {
    "scrolled": false
   },
   "outputs": [],
   "source": [
    "df_all_norm = df_all.copy()\n",
    "\n",
    "df_all_norm[['Lat','Lon','swe_real','era5','gldas','fldas','station_elevation'\n",
    "        ]] = MinMaxScaler().fit_transform(df_all_norm[['Lat','Lon','swe_real','era5','gldas','fldas','station_elevation']])\n",
    "\n",
    "df_all_norm"
   ]
  },
  {
   "cell_type": "code",
   "execution_count": null,
   "id": "a83b942c",
   "metadata": {},
   "outputs": [],
   "source": [
    "y = df_all_norm['swe_real']\n",
    "X = df_all_norm.drop(['Time','station_name','month','swe_real'], axis=1)"
   ]
  },
  {
   "cell_type": "code",
   "execution_count": null,
   "id": "00ff4c31",
   "metadata": {},
   "outputs": [],
   "source": [
    "X"
   ]
  },
  {
   "cell_type": "code",
   "execution_count": null,
   "id": "57b51c12",
   "metadata": {},
   "outputs": [],
   "source": [
    "y"
   ]
  },
  {
   "cell_type": "code",
   "execution_count": null,
   "id": "c69b207f",
   "metadata": {},
   "outputs": [],
   "source": [
    "def ann_auto(n1,n2,shape,n_epoch,X_in):\n",
    "     \n",
    "    global model, r_all,r2_all,rmse_all,mse_all,mae_all, r_test,r2_test,rmse_test,mse_test,mae_test, r_train,r2_train,rmse_train,mse_train,mae_train, r_val,r2_val,rmse_val,mse_val,mae_val\n",
    "    \n",
    "    \n",
    "    if n2==0:\n",
    "        model = Sequential([\n",
    "            Dense(units=n1, input_shape=(shape,), activation='relu'),\n",
    "            Dense(units=1)])\n",
    "        \n",
    "    else:\n",
    "        model = Sequential([\n",
    "            Dense(units=n1, input_shape=(shape,), activation='relu'),\n",
    "            Dense(units=n2, input_shape=(shape,), activation='relu'),\n",
    "            Dense(units=1)])\n",
    "\n",
    "    \n",
    "    model.compile(\n",
    "            optimizer= 'Adam',\n",
    "            loss = 'mean_squared_error',\n",
    "            metrics = ['mean_squared_error'])\n",
    "    \n",
    "    model.fit(X_train,y_train,\n",
    "         validation_data = (X_val , y_val),\n",
    "         batch_size=10,\n",
    "         epochs=n_epoch,\n",
    "         verbose=0)\n",
    "    \n",
    "    \n",
    "    y_pred_all = model.predict(X_in)\n",
    "    y_arr = np.array(y)\n",
    "    y_arr_pred_all  = y_pred_all.ravel()\n",
    "    y_pd = pd.Series(y_arr)\n",
    "    y_pd_pred_all = pd.Series(y_arr_pred_all)\n",
    "    \n",
    "    r_all = y_pd.corr(y_pd_pred_all)\n",
    "    r2_all = r2_score(y, y_pred_all)\n",
    "    rmse_all = mean_squared_error(y, y_pred_all, squared=False)\n",
    "    mse_all = mean_squared_error(y, y_pred_all) \n",
    "    mae_all = median_absolute_error(y, y_pred_all)\n",
    "    \n",
    "    \n",
    "        \n",
    "    y_pred_test = model.predict(X_test)\n",
    "    y_arr_test = np.array(y_test)\n",
    "    y_arr_pred_test  = y_pred_test.ravel()\n",
    "    y_pd_test = pd.Series(y_arr_test)\n",
    "    y_pd_pred_test = pd.Series(y_arr_pred_test)\n",
    "    \n",
    "    r_test = y_pd_test.corr(y_pd_pred_test)\n",
    "    r2_test = r2_score(y_test, y_pred_test)\n",
    "    rmse_test = mean_squared_error(y_test, y_pred_test, squared=False)\n",
    "    mse_test = mean_squared_error(y_test, y_pred_test)\n",
    "    mae_test = median_absolute_error(y_test, y_pred_test)\n",
    "\n",
    "        \n",
    "        \n",
    "    y_pred_train = model.predict(X_train)\n",
    "    y_arr_train = np.array(y_train)\n",
    "    y_arr_pred_train  = y_pred_train.ravel()\n",
    "    y_pd_train = pd.Series(y_arr_train)\n",
    "    y_pd_pred_train = pd.Series(y_arr_pred_train)\n",
    "    \n",
    "    r_train = y_pd_train.corr(y_pd_pred_train)\n",
    "    r2_train = r2_score(y_train, y_pred_train)\n",
    "    rmse_train = mean_squared_error(y_train, y_pred_train, squared=False)\n",
    "    mse_train = mean_squared_error(y_train, y_pred_train)\n",
    "    mae_train = median_absolute_error(y_train, y_pred_train)\n",
    "\n",
    "    \n",
    "    \n",
    "    y_pred_val = model.predict(X_val)\n",
    "    y_arr_val = np.array(y_val)\n",
    "    y_arr_pred_val  = y_pred_val.ravel()\n",
    "    y_pd_val = pd.Series(y_arr_val)\n",
    "    y_pd_pred_val = pd.Series(y_arr_pred_val)\n",
    "    \n",
    "    r_val = y_pd_val.corr(y_pd_pred_val)\n",
    "    r2_val = r2_score(y_val, y_pred_val)\n",
    "    rmse_val = mean_squared_error(y_val, y_pred_val, squared=False)    \n",
    "    mse_val = mean_squared_error(y_val, y_pred_val)\n",
    "    mae_val = median_absolute_error(y_val, y_pred_val)\n",
    "\n",
    "    \n",
    "    keras.backend.clear_session()\n",
    "    \n",
    "    return r_all,r2_all,rmse_all,mse_all,mae_all, r_test,r2_test,rmse_test,mse_test,mae_test, r_train,r2_train,rmse_train,mse_train,mae_train, r_val,r2_val,rmse_val,mse_val,mae_val"
   ]
  },
  {
   "cell_type": "code",
   "execution_count": null,
   "id": "6017c2b8",
   "metadata": {},
   "outputs": [],
   "source": [
    "group_list = ['N1','N2','epoch']\n",
    "mean_list = ['r_all','r2_all','rmse_all','mse_all','mae_all',\n",
    "             'r_test','r2_test','rmse_test','mse_test','mae_test',\n",
    "             'r_train','r2_train','rmse_train','mse_train','mae_train',\n",
    "             'r_val','r2_val','rmse_val','mse_val','mae_val']"
   ]
  },
  {
   "cell_type": "markdown",
   "id": "b6426a5b",
   "metadata": {},
   "source": [
    "# No1"
   ]
  },
  {
   "cell_type": "code",
   "execution_count": null,
   "id": "4cbbc254",
   "metadata": {},
   "outputs": [],
   "source": [
    "columns_1 = ['era5','gldas','fldas']"
   ]
  },
  {
   "cell_type": "code",
   "execution_count": null,
   "id": "c5d56d7e",
   "metadata": {
    "scrolled": true
   },
   "outputs": [],
   "source": [
    "X1 = X[columns_1]\n",
    "X1"
   ]
  },
  {
   "cell_type": "code",
   "execution_count": null,
   "id": "434335ea",
   "metadata": {
    "scrolled": true
   },
   "outputs": [],
   "source": [
    "df_out_1 = pd.DataFrame(columns = ['N1', 'N2', 'epoch',\n",
    "                             'r_all','r2_all','rmse_all','mse_all','mae_all',\n",
    "                             'r_test','r2_test','rmse_test','mse_test','mae_test',\n",
    "                             'r_train','r2_train','rmse_train','mse_train','mae_train',\n",
    "                             'r_val','r2_val','rmse_val','mse_val','mae_val'])\n",
    "df_out_1"
   ]
  },
  {
   "cell_type": "code",
   "execution_count": null,
   "id": "ea2458f2",
   "metadata": {
    "scrolled": true
   },
   "outputs": [],
   "source": [
    "for i in range(5,51,5):\n",
    "    for j in range(0,61,5):\n",
    "        for epoch_no in [100]:\n",
    "                for iter in range(10):\n",
    "                    ann_auto(i,j,len(X1.columns),epoch_no,X1)\n",
    "                    df_out_1.loc[len(df_out_1)] = [i, j, epoch_no,\n",
    "                                      r_all, r2_all, rmse_all, mse_all, mae_all,\n",
    "                                      r_test, r2_test, rmse_test, mse_test,mae_test,\n",
    "                                      r_train, r2_train, rmse_train, mse_train,mae_train,\n",
    "                                      r_val, r2_val, rmse_val, mse_val,mae_val]\n",
    "                    print('N1=',i,\" N2=\",j,\" epoch=\",epoch_no,' r=',r_all,' r2=',r2_all)"
   ]
  },
  {
   "cell_type": "code",
   "execution_count": null,
   "id": "6f73370c",
   "metadata": {},
   "outputs": [],
   "source": [
    "df_mean_1 = df_out_1.groupby(group_list)[mean_list].mean().reset_index()"
   ]
  },
  {
   "cell_type": "code",
   "execution_count": null,
   "id": "13d51573",
   "metadata": {},
   "outputs": [],
   "source": [
    "df_out_1.to_excel(\"E:/ANN_all_1.xlsx\",index=False)\n",
    "df_mean_1.to_excel(\"E:/ANN_mean_1.xlsx\",index=False)"
   ]
  },
  {
   "cell_type": "markdown",
   "id": "42394e88",
   "metadata": {},
   "source": [
    "# No2"
   ]
  },
  {
   "cell_type": "code",
   "execution_count": null,
   "id": "1f51117a",
   "metadata": {},
   "outputs": [],
   "source": [
    "columns_2 = ['era5','gldas','fldas','station_elevation']"
   ]
  },
  {
   "cell_type": "code",
   "execution_count": null,
   "id": "d7cd6ac8",
   "metadata": {},
   "outputs": [],
   "source": [
    "X2 = X[columns_2]\n",
    "X2"
   ]
  },
  {
   "cell_type": "code",
   "execution_count": null,
   "id": "114e03a3",
   "metadata": {},
   "outputs": [],
   "source": [
    "df_out_2 = pd.DataFrame(columns = ['N1', 'N2', 'epoch',\n",
    "                             'r_all','r2_all','rmse_all','mse_all','mae_all',\n",
    "                             'r_test','r2_test','rmse_test','mse_test','mae_test',\n",
    "                             'r_train','r2_train','rmse_train','mse_train','mae_train',\n",
    "                             'r_val','r2_val','rmse_val','mse_val','mae_val'])\n",
    "df_out_2"
   ]
  },
  {
   "cell_type": "code",
   "execution_count": null,
   "id": "af62d001",
   "metadata": {},
   "outputs": [],
   "source": [
    "for i in range(5,51,5):\n",
    "    for j in range(0,61,5):\n",
    "        for epoch_no in [100]:\n",
    "                for iter in range(10):\n",
    "                    ann_auto(i,j,len(X2.columns),epoch_no,X2)\n",
    "                    df_out_2.loc[len(df_out_2)] = [i, j, epoch_no,\n",
    "                                      r_all, r2_all, rmse_all, mse_all, mae_all,\n",
    "                                      r_test, r2_test, rmse_test, mse_test,mae_test,\n",
    "                                      r_train, r2_train, rmse_train, mse_train,mae_train,\n",
    "                                      r_val, r2_val, rmse_val, mse_val,mae_val]\n",
    "                    print('N1=',i,\" N2=\",j,\" epoch=\",epoch_no,' r=',r_all,' r2=',r2_all)"
   ]
  },
  {
   "cell_type": "code",
   "execution_count": null,
   "id": "1cdde454",
   "metadata": {},
   "outputs": [],
   "source": [
    "df_mean_2 = df_out_2.groupby(group_list)[mean_list].mean().reset_index()"
   ]
  },
  {
   "cell_type": "code",
   "execution_count": null,
   "id": "4d9cd9b4",
   "metadata": {},
   "outputs": [],
   "source": [
    "df_out_2.to_excel(\"E:/ANN_all_2.xlsx\",index=False)\n",
    "df_mean_2.to_excel(\"E:/ANN_mean_2.xlsx\",index=False)"
   ]
  },
  {
   "cell_type": "markdown",
   "id": "6e5d7331",
   "metadata": {},
   "source": [
    "# No3"
   ]
  },
  {
   "cell_type": "code",
   "execution_count": null,
   "id": "6f6f8c87",
   "metadata": {},
   "outputs": [],
   "source": [
    "columns_3 = ['era5','gldas','fldas','station_elevation','T1','T2']"
   ]
  },
  {
   "cell_type": "code",
   "execution_count": null,
   "id": "4fec9ea3",
   "metadata": {},
   "outputs": [],
   "source": [
    "X3 = X[columns_3]\n",
    "X3"
   ]
  },
  {
   "cell_type": "code",
   "execution_count": null,
   "id": "91941d57",
   "metadata": {},
   "outputs": [],
   "source": [
    "df_out_3 = pd.DataFrame(columns = ['N1', 'N2', 'epoch',\n",
    "                             'r_all','r2_all','rmse_all','mse_all','mae_all',\n",
    "                             'r_test','r2_test','rmse_test','mse_test','mae_test',\n",
    "                             'r_train','r2_train','rmse_train','mse_train','mae_train',\n",
    "                             'r_val','r2_val','rmse_val','mse_val','mae_val'])\n",
    "df_out_3"
   ]
  },
  {
   "cell_type": "code",
   "execution_count": null,
   "id": "59fd3665",
   "metadata": {},
   "outputs": [],
   "source": [
    "for i in range(5,51,5):\n",
    "    for j in range(0,61,5):\n",
    "        for epoch_no in [100]:\n",
    "                for iter in range(10):\n",
    "                    ann_auto(i,j,len(X3.columns),epoch_no,X3)\n",
    "                    df_out_3.loc[len(df_out_3)] = [i, j, epoch_no,\n",
    "                                      r_all, r2_all, rmse_all, mse_all, mae_all,\n",
    "                                      r_test, r2_test, rmse_test, mse_test,mae_test,\n",
    "                                      r_train, r2_train, rmse_train, mse_train,mae_train,\n",
    "                                      r_val, r2_val, rmse_val, mse_val,mae_val]\n",
    "                    print('N1=',i,\" N2=\",j,\" epoch=\",epoch_no,' r=',r_all,' r2=',r2_all)"
   ]
  },
  {
   "cell_type": "code",
   "execution_count": null,
   "id": "7ab1e615",
   "metadata": {},
   "outputs": [],
   "source": [
    "df_mean_3 = df_out_3.groupby(group_list)[mean_list].mean().reset_index()"
   ]
  },
  {
   "cell_type": "code",
   "execution_count": null,
   "id": "a68ff133",
   "metadata": {},
   "outputs": [],
   "source": [
    "df_out_3.to_excel(\"E:/ANN_all_3.xlsx\",index=False)\n",
    "df_mean_3.to_excel(\"E:/ANN_mean_3.xlsx\",index=False)"
   ]
  },
  {
   "cell_type": "markdown",
   "id": "60d9cbe8",
   "metadata": {},
   "source": [
    "# No4"
   ]
  },
  {
   "cell_type": "code",
   "execution_count": null,
   "id": "dd134149",
   "metadata": {},
   "outputs": [],
   "source": [
    "columns_4 = ['era5','gldas','fldas','station_elevation','Lat','Lon']"
   ]
  },
  {
   "cell_type": "code",
   "execution_count": null,
   "id": "986b8fe2",
   "metadata": {},
   "outputs": [],
   "source": [
    "X4 = X[columns_4]\n",
    "X4"
   ]
  },
  {
   "cell_type": "code",
   "execution_count": null,
   "id": "7d24fc66",
   "metadata": {},
   "outputs": [],
   "source": [
    "df_out_4 = pd.DataFrame(columns = ['N1', 'N2', 'epoch',\n",
    "                             'r_all','r2_all','rmse_all','mse_all','mae_all',\n",
    "                             'r_test','r2_test','rmse_test','mse_test','mae_test',\n",
    "                             'r_train','r2_train','rmse_train','mse_train','mae_train',\n",
    "                             'r_val','r2_val','rmse_val','mse_val','mae_val'])\n",
    "df_out_4"
   ]
  },
  {
   "cell_type": "code",
   "execution_count": null,
   "id": "6c7543e9",
   "metadata": {},
   "outputs": [],
   "source": [
    "for i in range(5,51,5):\n",
    "    for j in range(0,61,5):\n",
    "        for epoch_no in [100]:\n",
    "                for iter in range(10):\n",
    "                    ann_auto(i,j,len(X4.columns),epoch_no,X4)\n",
    "                    df_out_4.loc[len(df_out_4)] = [i, j, epoch_no,\n",
    "                                      r_all, r2_all, rmse_all, mse_all, mae_all,\n",
    "                                      r_test, r2_test, rmse_test, mse_test,mae_test,\n",
    "                                      r_train, r2_train, rmse_train, mse_train,mae_train,\n",
    "                                      r_val, r2_val, rmse_val, mse_val,mae_val]\n",
    "                    print('N1=',i,\" N2=\",j,\" epoch=\",epoch_no,' r=',r_all,' r2=',r2_all)"
   ]
  },
  {
   "cell_type": "code",
   "execution_count": null,
   "id": "8d4fcec7",
   "metadata": {},
   "outputs": [],
   "source": [
    "df_mean_4 = df_out_4.groupby(group_list)[mean_list].mean().reset_index()"
   ]
  },
  {
   "cell_type": "code",
   "execution_count": null,
   "id": "6560e6e8",
   "metadata": {},
   "outputs": [],
   "source": [
    "df_out_4.to_excel(\"E:/ANN_all_4.xlsx\",index=False)\n",
    "df_mean_4.to_excel(\"E:/ANN_mean_4.xlsx\",index=False)"
   ]
  },
  {
   "cell_type": "markdown",
   "id": "28e566f3",
   "metadata": {},
   "source": [
    "# No5"
   ]
  },
  {
   "cell_type": "code",
   "execution_count": null,
   "id": "3f1397ab",
   "metadata": {},
   "outputs": [],
   "source": [
    "columns_5 = ['era5','gldas','fldas','station_elevation','Lat','Lon','T1','T2']"
   ]
  },
  {
   "cell_type": "code",
   "execution_count": null,
   "id": "519fda04",
   "metadata": {},
   "outputs": [],
   "source": [
    "X5 = X[columns_5]\n",
    "X5"
   ]
  },
  {
   "cell_type": "code",
   "execution_count": null,
   "id": "a8674b90",
   "metadata": {},
   "outputs": [],
   "source": [
    "df_out_5 = pd.DataFrame(columns = ['N1', 'N2', 'epoch',\n",
    "                             'r_all','r2_all','rmse_all','mse_all','mae_all',\n",
    "                             'r_test','r2_test','rmse_test','mse_test','mae_test',\n",
    "                             'r_train','r2_train','rmse_train','mse_train','mae_train',\n",
    "                             'r_val','r2_val','rmse_val','mse_val','mae_val'])\n",
    "df_out_5"
   ]
  },
  {
   "cell_type": "code",
   "execution_count": null,
   "id": "ec3b1357",
   "metadata": {},
   "outputs": [],
   "source": [
    "for i in range(5,51,5):\n",
    "    for j in range(0,61,5):\n",
    "        for epoch_no in [100]:\n",
    "                for iter in range(10):\n",
    "                    ann_auto(i,j,len(X5.columns),epoch_no,X5)\n",
    "                    df_out_5.loc[len(df_out_5)] = [i, j, epoch_no,\n",
    "                                      r_all, r2_all, rmse_all, mse_all, mae_all,\n",
    "                                      r_test, r2_test, rmse_test, mse_test,mae_test,\n",
    "                                      r_train, r2_train, rmse_train, mse_train,mae_train,\n",
    "                                      r_val, r2_val, rmse_val, mse_val,mae_val]\n",
    "                    print('N1=',i,\" N2=\",j,\" epoch=\",epoch_no,' r=',r_all,' r2=',r2_all)"
   ]
  },
  {
   "cell_type": "code",
   "execution_count": null,
   "id": "ab1f98b8",
   "metadata": {},
   "outputs": [],
   "source": [
    "df_mean_5 = df_out_5.groupby(group_list)[mean_list].mean().reset_index()"
   ]
  },
  {
   "cell_type": "code",
   "execution_count": null,
   "id": "0f51d600",
   "metadata": {},
   "outputs": [],
   "source": [
    "df_out_5.to_excel(\"E:/ANN_all_5.xlsx\",index=False)\n",
    "df_mean_5.to_excel(\"E:/ANN_mean_5.xlsx\",index=False)"
   ]
  },
  {
   "cell_type": "markdown",
   "id": "b862e294",
   "metadata": {},
   "source": [
    "# No6"
   ]
  },
  {
   "cell_type": "code",
   "execution_count": null,
   "id": "abdcb244",
   "metadata": {},
   "outputs": [],
   "source": [
    "columns_6 = ['era5','gldas','fldas','station_elevation',\n",
    "             'ahar','amame','chuiak','dokhani','dukpol','dyzan(khachire)','garmadar','gelinak','ghasr',\n",
    "             'halichaie','haranj','jostan','kend','lavasan','purmoghani','shemshak','sorhe','zidasht']"
   ]
  },
  {
   "cell_type": "code",
   "execution_count": null,
   "id": "f73a2ed3",
   "metadata": {},
   "outputs": [],
   "source": [
    "X6 = X[columns_6]\n",
    "X6"
   ]
  },
  {
   "cell_type": "code",
   "execution_count": null,
   "id": "d1a8dab6",
   "metadata": {},
   "outputs": [],
   "source": [
    "df_out_6 = pd.DataFrame(columns = ['N1', 'N2', 'epoch',\n",
    "                             'r_all','r2_all','rmse_all','mse_all','mae_all',\n",
    "                             'r_test','r2_test','rmse_test','mse_test','mae_test',\n",
    "                             'r_train','r2_train','rmse_train','mse_train','mae_train',\n",
    "                             'r_val','r2_val','rmse_val','mse_val','mae_val'])\n",
    "df_out_6"
   ]
  },
  {
   "cell_type": "code",
   "execution_count": null,
   "id": "ed2460ff",
   "metadata": {},
   "outputs": [],
   "source": [
    "for i in range(5,51,5):\n",
    "    for j in range(0,61,5):\n",
    "        for epoch_no in [100]:\n",
    "                for iter in range(10):\n",
    "                    ann_auto(i,j,len(X6.columns),epoch_no,X6)\n",
    "                    df_out_6.loc[len(df_out_6)] = [i, j, epoch_no,\n",
    "                                      r_all, r2_all, rmse_all, mse_all, mae_all,\n",
    "                                      r_test, r2_test, rmse_test, mse_test,mae_test,\n",
    "                                      r_train, r2_train, rmse_train, mse_train,mae_train,\n",
    "                                      r_val, r2_val, rmse_val, mse_val,mae_val]\n",
    "                    print('N1=',i,\" N2=\",j,\" epoch=\",epoch_no,' r=',r_all,' r2=',r2_all)"
   ]
  },
  {
   "cell_type": "code",
   "execution_count": null,
   "id": "71067435",
   "metadata": {},
   "outputs": [],
   "source": [
    "df_mean_6 = df_out_6.groupby(group_list)[mean_list].mean().reset_index()"
   ]
  },
  {
   "cell_type": "code",
   "execution_count": null,
   "id": "67ddcd31",
   "metadata": {},
   "outputs": [],
   "source": [
    "df_out_6.to_excel(\"E:/ANN_all_6.xlsx\",index=False)\n",
    "df_mean_6.to_excel(\"E:/ANN_mean_6.xlsx\",index=False)"
   ]
  },
  {
   "cell_type": "markdown",
   "id": "9e892418",
   "metadata": {},
   "source": [
    "# No7"
   ]
  },
  {
   "cell_type": "code",
   "execution_count": null,
   "id": "9566ff32",
   "metadata": {},
   "outputs": [],
   "source": [
    "columns_7 = ['era5','gldas','fldas','station_elevation','Lat','Lon','T1','T2',\n",
    "             'ahar','amame','chuiak','dokhani','dukpol','dyzan(khachire)','garmadar','gelinak','ghasr',\n",
    "             'halichaie','haranj','jostan','kend','lavasan','purmoghani','shemshak','sorhe','zidasht']"
   ]
  },
  {
   "cell_type": "code",
   "execution_count": null,
   "id": "f853f7b3",
   "metadata": {},
   "outputs": [],
   "source": [
    "X7 = X[columns_7]\n",
    "X7"
   ]
  },
  {
   "cell_type": "code",
   "execution_count": null,
   "id": "181051a6",
   "metadata": {},
   "outputs": [],
   "source": [
    "df_out_7 = pd.DataFrame(columns = ['N1', 'N2', 'epoch',\n",
    "                             'r_all','r2_all','rmse_all','mse_all','mae_all',\n",
    "                             'r_test','r2_test','rmse_test','mse_test','mae_test',\n",
    "                             'r_train','r2_train','rmse_train','mse_train','mae_train',\n",
    "                             'r_val','r2_val','rmse_val','mse_val','mae_val'])\n",
    "df_out_7"
   ]
  },
  {
   "cell_type": "code",
   "execution_count": null,
   "id": "e7709201",
   "metadata": {},
   "outputs": [],
   "source": [
    "for i in range(5,51,5):\n",
    "    for j in range(0,61,5):\n",
    "        for epoch_no in [100]:\n",
    "                for iter in range(10):\n",
    "                    ann_auto(i,j,len(X7.columns),epoch_no,X7)\n",
    "                    df_out_7.loc[len(df_out_7)] = [i, j, epoch_no,\n",
    "                                      r_all, r2_all, rmse_all, mse_all, mae_all,\n",
    "                                      r_test, r2_test, rmse_test, mse_test,mae_test,\n",
    "                                      r_train, r2_train, rmse_train, mse_train,mae_train,\n",
    "                                      r_val, r2_val, rmse_val, mse_val,mae_val]\n",
    "                    print('N1=',i,\" N2=\",j,\" epoch=\",epoch_no,' r=',r_all,' r2=',r2_all)"
   ]
  },
  {
   "cell_type": "code",
   "execution_count": null,
   "id": "bd0c2f16",
   "metadata": {},
   "outputs": [],
   "source": [
    "df_mean_7 = df_out_7.groupby(group_list)[mean_list].mean().reset_index()"
   ]
  },
  {
   "cell_type": "code",
   "execution_count": null,
   "id": "9d1fff5b",
   "metadata": {},
   "outputs": [],
   "source": [
    "df_out_7.to_excel(\"E:/ANN_all_7.xlsx\",index=False)\n",
    "df_mean_7.to_excel(\"E:/ANN_mean_7.xlsx\",index=False)"
   ]
  }
 ],
 "metadata": {
  "kernelspec": {
   "display_name": "Python 3 (ipykernel)",
   "language": "python",
   "name": "python3"
  },
  "language_info": {
   "codemirror_mode": {
    "name": "ipython",
    "version": 3
   },
   "file_extension": ".py",
   "mimetype": "text/x-python",
   "name": "python",
   "nbconvert_exporter": "python",
   "pygments_lexer": "ipython3",
   "version": "3.8.11"
  }
 },
 "nbformat": 4,
 "nbformat_minor": 5
}
